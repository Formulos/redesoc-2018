{
 "cells": [
  {
   "cell_type": "code",
   "execution_count": 9,
   "metadata": {},
   "outputs": [
    {
     "data": {
      "text/plain": [
       "'0.20.3'"
      ]
     },
     "execution_count": 9,
     "metadata": {},
     "output_type": "execute_result"
    }
   ],
   "source": [
    "import pandas as pd\n",
    "pd.__version__"
   ]
  },
  {
   "cell_type": "code",
   "execution_count": 10,
   "metadata": {
    "collapsed": true
   },
   "outputs": [],
   "source": [
    "%matplotlib inline\n",
    "import matplotlib.pyplot as plt\n",
    "import matplotlib"
   ]
  },
  {
   "cell_type": "code",
   "execution_count": 11,
   "metadata": {},
   "outputs": [
    {
     "name": "stdout",
     "output_type": "stream",
     "text": [
      "Esperamos trabalhar no diretório\n",
      "/home/paulo/Downloads/Github/redesoc-2018/lembrando_do_pandas\n"
     ]
    }
   ],
   "source": [
    "import os\n",
    "print('Esperamos trabalhar no diretório')\n",
    "print(os.getcwd())"
   ]
  },
  {
   "cell_type": "code",
   "execution_count": 12,
   "metadata": {
    "collapsed": true
   },
   "outputs": [],
   "source": [
    "dados = pd.read_table(\"cabreuva_limpa.csv\", encoding=\"windows-1252\", sep=\",\")"
   ]
  },
  {
   "cell_type": "code",
   "execution_count": 15,
   "metadata": {
    "scrolled": true
   },
   "outputs": [
    {
     "data": {
      "text/html": [
       "<div>\n",
       "<style>\n",
       "    .dataframe thead tr:only-child th {\n",
       "        text-align: right;\n",
       "    }\n",
       "\n",
       "    .dataframe thead th {\n",
       "        text-align: left;\n",
       "    }\n",
       "\n",
       "    .dataframe tbody tr th {\n",
       "        vertical-align: top;\n",
       "    }\n",
       "</style>\n",
       "<table border=\"1\" class=\"dataframe\">\n",
       "  <thead>\n",
       "    <tr style=\"text-align: right;\">\n",
       "      <th></th>\n",
       "      <th>Unnamed: 0</th>\n",
       "      <th>ESCOLA</th>\n",
       "      <th>NOME</th>\n",
       "      <th>TURMA</th>\n",
       "      <th>IDDEINQUIRIDO</th>\n",
       "      <th>DATADEINÍCIO</th>\n",
       "      <th>IDADE</th>\n",
       "      <th>ANODENASCIMENTO</th>\n",
       "      <th>SEXO</th>\n",
       "      <th>RELIGIÃO</th>\n",
       "      <th>...</th>\n",
       "      <th>escola_short</th>\n",
       "      <th>serie</th>\n",
       "      <th>eja</th>\n",
       "      <th>idade</th>\n",
       "      <th>grupo_idade</th>\n",
       "      <th>masculino</th>\n",
       "      <th>religion</th>\n",
       "      <th>religiao</th>\n",
       "      <th>raca</th>\n",
       "      <th>corpele</th>\n",
       "    </tr>\n",
       "  </thead>\n",
       "  <tbody>\n",
       "    <tr>\n",
       "      <th>0</th>\n",
       "      <td>1</td>\n",
       "      <td>EE ANA MESQUITA LAURINI</td>\n",
       "      <td>ALAN DAVID ALVES SILVA</td>\n",
       "      <td>1D</td>\n",
       "      <td>4.237477e+09</td>\n",
       "      <td>10/05/2015</td>\n",
       "      <td>16</td>\n",
       "      <td>1999</td>\n",
       "      <td>Masculino</td>\n",
       "      <td>Eu não tenho religião</td>\n",
       "      <td>...</td>\n",
       "      <td>AML</td>\n",
       "      <td>5</td>\n",
       "      <td>1</td>\n",
       "      <td>16</td>\n",
       "      <td>16</td>\n",
       "      <td>1</td>\n",
       "      <td>6</td>\n",
       "      <td>6</td>\n",
       "      <td>3</td>\n",
       "      <td>11</td>\n",
       "    </tr>\n",
       "    <tr>\n",
       "      <th>1</th>\n",
       "      <td>2</td>\n",
       "      <td>EE ANA MESQUITA LAURINI</td>\n",
       "      <td>ALAN VIEIRA RIBEIRO</td>\n",
       "      <td>1A</td>\n",
       "      <td>4.233702e+09</td>\n",
       "      <td>10/02/2015</td>\n",
       "      <td>16</td>\n",
       "      <td>1999</td>\n",
       "      <td>Masculino</td>\n",
       "      <td>Religião afro-brasileira (como o Candomblé ou ...</td>\n",
       "      <td>...</td>\n",
       "      <td>AML</td>\n",
       "      <td>5</td>\n",
       "      <td>1</td>\n",
       "      <td>16</td>\n",
       "      <td>16</td>\n",
       "      <td>1</td>\n",
       "      <td>4</td>\n",
       "      <td>4</td>\n",
       "      <td>1</td>\n",
       "      <td>5</td>\n",
       "    </tr>\n",
       "    <tr>\n",
       "      <th>2</th>\n",
       "      <td>3</td>\n",
       "      <td>EE ANA MESQUITA LAURINI</td>\n",
       "      <td>ALUAN FIDELIS RIBEIRO DE SOUZA</td>\n",
       "      <td>1B</td>\n",
       "      <td>4.233349e+09</td>\n",
       "      <td>10/02/2015</td>\n",
       "      <td>15</td>\n",
       "      <td>1999</td>\n",
       "      <td>Masculino</td>\n",
       "      <td>Eu não tenho religião</td>\n",
       "      <td>...</td>\n",
       "      <td>AML</td>\n",
       "      <td>5</td>\n",
       "      <td>1</td>\n",
       "      <td>15</td>\n",
       "      <td>15</td>\n",
       "      <td>1</td>\n",
       "      <td>6</td>\n",
       "      <td>6</td>\n",
       "      <td>1</td>\n",
       "      <td>5</td>\n",
       "    </tr>\n",
       "    <tr>\n",
       "      <th>3</th>\n",
       "      <td>4</td>\n",
       "      <td>EE ANA MESQUITA LAURINI</td>\n",
       "      <td>AMANDA APARECIDA GOES</td>\n",
       "      <td>1D</td>\n",
       "      <td>4.237431e+09</td>\n",
       "      <td>10/05/2015</td>\n",
       "      <td>16</td>\n",
       "      <td>1999</td>\n",
       "      <td>Feminino</td>\n",
       "      <td>Evangélico (a)</td>\n",
       "      <td>...</td>\n",
       "      <td>AML</td>\n",
       "      <td>5</td>\n",
       "      <td>1</td>\n",
       "      <td>16</td>\n",
       "      <td>16</td>\n",
       "      <td>0</td>\n",
       "      <td>2</td>\n",
       "      <td>2</td>\n",
       "      <td>1</td>\n",
       "      <td>7</td>\n",
       "    </tr>\n",
       "    <tr>\n",
       "      <th>4</th>\n",
       "      <td>5</td>\n",
       "      <td>EE ANA MESQUITA LAURINI</td>\n",
       "      <td>ANA BEATRIZ ALVES DOS SANTOS</td>\n",
       "      <td>1D</td>\n",
       "      <td>4.237431e+09</td>\n",
       "      <td>10/05/2015</td>\n",
       "      <td>15</td>\n",
       "      <td>1999</td>\n",
       "      <td>Feminino</td>\n",
       "      <td>Católico (a)</td>\n",
       "      <td>...</td>\n",
       "      <td>AML</td>\n",
       "      <td>5</td>\n",
       "      <td>1</td>\n",
       "      <td>15</td>\n",
       "      <td>15</td>\n",
       "      <td>0</td>\n",
       "      <td>3</td>\n",
       "      <td>3</td>\n",
       "      <td>3</td>\n",
       "      <td>9</td>\n",
       "    </tr>\n",
       "  </tbody>\n",
       "</table>\n",
       "<p>5 rows × 117 columns</p>\n",
       "</div>"
      ],
      "text/plain": [
       "   Unnamed: 0                   ESCOLA                            NOME TURMA  \\\n",
       "0           1  EE ANA MESQUITA LAURINI          ALAN DAVID ALVES SILVA    1D   \n",
       "1           2  EE ANA MESQUITA LAURINI             ALAN VIEIRA RIBEIRO    1A   \n",
       "2           3  EE ANA MESQUITA LAURINI  ALUAN FIDELIS RIBEIRO DE SOUZA    1B   \n",
       "3           4  EE ANA MESQUITA LAURINI           AMANDA APARECIDA GOES    1D   \n",
       "4           5  EE ANA MESQUITA LAURINI    ANA BEATRIZ ALVES DOS SANTOS    1D   \n",
       "\n",
       "   IDDEINQUIRIDO DATADEINÍCIO  IDADE  ANODENASCIMENTO       SEXO  \\\n",
       "0   4.237477e+09   10/05/2015     16             1999  Masculino   \n",
       "1   4.233702e+09   10/02/2015     16             1999  Masculino   \n",
       "2   4.233349e+09   10/02/2015     15             1999  Masculino   \n",
       "3   4.237431e+09   10/05/2015     16             1999   Feminino   \n",
       "4   4.237431e+09   10/05/2015     15             1999   Feminino   \n",
       "\n",
       "                                            RELIGIÃO   ...     escola_short  \\\n",
       "0                              Eu não tenho religião   ...              AML   \n",
       "1  Religião afro-brasileira (como o Candomblé ou ...   ...              AML   \n",
       "2                              Eu não tenho religião   ...              AML   \n",
       "3                                     Evangélico (a)   ...              AML   \n",
       "4                                       Católico (a)   ...              AML   \n",
       "\n",
       "  serie  eja  idade  grupo_idade  masculino  religion  religiao  raca  corpele  \n",
       "0     5    1     16           16          1         6         6     3       11  \n",
       "1     5    1     16           16          1         4         4     1        5  \n",
       "2     5    1     15           15          1         6         6     1        5  \n",
       "3     5    1     16           16          0         2         2     1        7  \n",
       "4     5    1     15           15          0         3         3     3        9  \n",
       "\n",
       "[5 rows x 117 columns]"
      ]
     },
     "execution_count": 15,
     "metadata": {},
     "output_type": "execute_result"
    }
   ],
   "source": [
    "dados.head()"
   ]
  },
  {
   "cell_type": "code",
   "execution_count": 16,
   "metadata": {},
   "outputs": [
    {
     "data": {
      "text/plain": [
       "Index(['Unnamed: 0', 'ESCOLA', 'NOME', 'TURMA', 'IDDEINQUIRIDO',\n",
       "       'DATADEINÍCIO', 'IDADE', 'ANODENASCIMENTO', 'SEXO', 'RELIGIÃO',\n",
       "       ...\n",
       "       'escola_short', 'serie', 'eja', 'idade', 'grupo_idade', 'masculino',\n",
       "       'religion', 'religiao', 'raca', 'corpele'],\n",
       "      dtype='object', length=117)"
      ]
     },
     "execution_count": 16,
     "metadata": {},
     "output_type": "execute_result"
    }
   ],
   "source": [
    "dados.columns"
   ]
  },
  {
   "cell_type": "code",
   "execution_count": 17,
   "metadata": {},
   "outputs": [
    {
     "data": {
      "text/plain": [
       "14.700087438064704"
      ]
     },
     "execution_count": 17,
     "metadata": {},
     "output_type": "execute_result"
    }
   ],
   "source": [
    "dados.idade.mean()"
   ]
  },
  {
   "cell_type": "code",
   "execution_count": null,
   "metadata": {
    "collapsed": true
   },
   "outputs": [],
   "source": []
  }
 ],
 "metadata": {
  "kernelspec": {
   "display_name": "Python 3",
   "language": "python",
   "name": "python3"
  },
  "language_info": {
   "codemirror_mode": {
    "name": "ipython",
    "version": 3
   },
   "file_extension": ".py",
   "mimetype": "text/x-python",
   "name": "python",
   "nbconvert_exporter": "python",
   "pygments_lexer": "ipython3",
   "version": "3.6.3"
  }
 },
 "nbformat": 4,
 "nbformat_minor": 2
}
